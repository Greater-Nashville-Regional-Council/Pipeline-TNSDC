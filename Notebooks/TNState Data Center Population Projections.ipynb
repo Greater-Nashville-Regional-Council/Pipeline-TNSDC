{
 "cells": [
  {
   "cell_type": "markdown",
   "id": "880febde",
   "metadata": {},
   "source": [
    "##### Imports and Settings"
   ]
  },
  {
   "cell_type": "code",
   "execution_count": 3,
   "id": "c623cf61",
   "metadata": {},
   "outputs": [],
   "source": [
    "import pandas as pd\n",
    "import numpy as np\n",
    "import requests\n",
    "from functools import reduce\n",
    "import matplotlib.pyplot as plt\n",
    "import pickle\n",
    "pd.set_option('display.max_columns', None)\n",
    "pd.set_option('display.max_rows', None)\n",
    "pd.set_option('display.width', 150)\n",
    "import sys\n",
    "sys.path.append(\"../../../Functions and Dictionaries\") # Adds higher directory to python modules path\n",
    "import sqlite3 as sq\n",
    "#functions\n",
    "def percent(x, y):\n",
    "        try:\n",
    "            return ((x/y)*100)\n",
    "        except ZeroDivisionError:\n",
    "            return 0\n",
    "def percentchange(x, y):\n",
    "    try:\n",
    "        return ((x - y)*100/y)\n",
    "    except ZeroDivisionError:\n",
    "        return 0\n",
    "def realchange(x, y):\n",
    "    return x-y\n",
    "#calculate real and percent change between all columns for all possible time frames\n",
    "def calculate_changes(df, columns, time_frames, years):\n",
    "    for column in columns:\n",
    "        for time_frame in time_frames:\n",
    "            start_year, end_year = time_frame.split('-')\n",
    "            df[f'{column} % Change', 'None', f'{time_frame}'] = percentchange(df[(column, int(end_year), 'None')], df[(column, int(start_year), 'None')])\n",
    "            df[f'{column} Change', 'None', f'{time_frame}'] = (df[(column, int(end_year), 'None')] - df[(column, int(start_year), 'None')])\n",
    "\n",
    "    return df\n",
    "#generate all possible time frames from a list of years\n",
    "def generate_time_frames(years):\n",
    "    time_frames = []\n",
    "    for i in range(len(years)-1):\n",
    "        for j in range(i+1, len(years)):\n",
    "            time_frames.append(f\"{years[i]}-{years[j]}\")\n",
    "    return time_frames"
   ]
  },
  {
   "cell_type": "markdown",
   "id": "5afbd836",
   "metadata": {},
   "source": [
    "https://tnsdc.utk.edu/estimates-and-projections/boyd-center-population-projections/"
   ]
  },
  {
   "cell_type": "code",
   "execution_count": 5,
   "id": "b1212a2c",
   "metadata": {},
   "outputs": [
    {
     "data": {
      "text/html": [
       "<div>\n",
       "<style scoped>\n",
       "    .dataframe tbody tr th:only-of-type {\n",
       "        vertical-align: middle;\n",
       "    }\n",
       "\n",
       "    .dataframe tbody tr th {\n",
       "        vertical-align: top;\n",
       "    }\n",
       "\n",
       "    .dataframe thead th {\n",
       "        text-align: right;\n",
       "    }\n",
       "</style>\n",
       "<table border=\"1\" class=\"dataframe\">\n",
       "  <thead>\n",
       "    <tr style=\"text-align: right;\">\n",
       "      <th></th>\n",
       "      <th>GEOID</th>\n",
       "      <th>CTYNAME</th>\n",
       "      <th>RACE</th>\n",
       "      <th>SEX</th>\n",
       "      <th>AGEGRP</th>\n",
       "      <th>YEAR</th>\n",
       "      <th>POPULATION</th>\n",
       "    </tr>\n",
       "  </thead>\n",
       "  <tbody>\n",
       "    <tr>\n",
       "      <th>0</th>\n",
       "      <td>47001</td>\n",
       "      <td>Anderson</td>\n",
       "      <td>1</td>\n",
       "      <td>1</td>\n",
       "      <td>1</td>\n",
       "      <td>2022</td>\n",
       "      <td>1723</td>\n",
       "    </tr>\n",
       "    <tr>\n",
       "      <th>1</th>\n",
       "      <td>47001</td>\n",
       "      <td>Anderson</td>\n",
       "      <td>1</td>\n",
       "      <td>1</td>\n",
       "      <td>2</td>\n",
       "      <td>2022</td>\n",
       "      <td>1911</td>\n",
       "    </tr>\n",
       "    <tr>\n",
       "      <th>2</th>\n",
       "      <td>47001</td>\n",
       "      <td>Anderson</td>\n",
       "      <td>1</td>\n",
       "      <td>1</td>\n",
       "      <td>3</td>\n",
       "      <td>2022</td>\n",
       "      <td>1978</td>\n",
       "    </tr>\n",
       "    <tr>\n",
       "      <th>3</th>\n",
       "      <td>47001</td>\n",
       "      <td>Anderson</td>\n",
       "      <td>1</td>\n",
       "      <td>1</td>\n",
       "      <td>4</td>\n",
       "      <td>2022</td>\n",
       "      <td>2079</td>\n",
       "    </tr>\n",
       "    <tr>\n",
       "      <th>4</th>\n",
       "      <td>47001</td>\n",
       "      <td>Anderson</td>\n",
       "      <td>1</td>\n",
       "      <td>1</td>\n",
       "      <td>5</td>\n",
       "      <td>2022</td>\n",
       "      <td>2011</td>\n",
       "    </tr>\n",
       "  </tbody>\n",
       "</table>\n",
       "</div>"
      ],
      "text/plain": [
       "   GEOID   CTYNAME RACE SEX AGEGRP  YEAR POPULATION\n",
       "0  47001  Anderson    1   1      1  2022       1723\n",
       "1  47001  Anderson    1   1      2  2022       1911\n",
       "2  47001  Anderson    1   1      3  2022       1978\n",
       "3  47001  Anderson    1   1      4  2022       2079\n",
       "4  47001  Anderson    1   1      5  2022       2011"
      ]
     },
     "execution_count": 5,
     "metadata": {},
     "output_type": "execute_result"
    }
   ],
   "source": [
    "data = pd.read_csv('../Data/TN_CoPopProj_2022_alldata.csv', dtype = str)\n",
    "data.head()"
   ]
  },
  {
   "cell_type": "code",
   "execution_count": null,
   "id": "27c2a8cc",
   "metadata": {},
   "outputs": [],
   "source": []
  }
 ],
 "metadata": {
  "kernelspec": {
   "display_name": "Python 3 (ipykernel)",
   "language": "python",
   "name": "python3"
  },
  "language_info": {
   "codemirror_mode": {
    "name": "ipython",
    "version": 3
   },
   "file_extension": ".py",
   "mimetype": "text/x-python",
   "name": "python",
   "nbconvert_exporter": "python",
   "pygments_lexer": "ipython3",
   "version": "3.11.5"
  }
 },
 "nbformat": 4,
 "nbformat_minor": 5
}
